{
 "cells": [
  {
   "cell_type": "code",
   "execution_count": 1,
   "id": "d7270d4c",
   "metadata": {
    "code_folding": [
     0
    ]
   },
   "outputs": [],
   "source": [
    "# modules \n",
    "import warnings\n",
    "warnings.filterwarnings('ignore')\n",
    "import os\n",
    "import sys\n",
    "import cv2\n",
    "import time\n",
    "import datetime\n",
    "import numpy as np\n",
    "import pandas as pd\n",
    "import torch\n",
    "import torch.nn as nn\n",
    "import torch.nn.functional as F\n",
    "import torch.optim as optim\n",
    "from torch.cuda.amp import autocast, GradScaler \n",
    "from torchvision.transforms import Normalize\n",
    "from albumentations import Compose, OneOf, ShiftScaleRotate, HorizontalFlip\n",
    "from albumentations.augmentations import transforms as aug\n",
    "from kornia.metrics.mean_iou import mean_iou\n",
    "#from albumentations.pytorch import ToTensor\n",
    "from tqdm import tqdm\n",
    "from matplotlib import pyplot as plt\n",
    "import seaborn as sns\n",
    "import random\n",
    "from pathlib import Path\n",
    "import gc\n",
    "\n",
    "sys.path.append('../')\n",
    "from utils import util\n",
    "from utils.config import Config\n",
    "import factory"
   ]
  },
  {
   "cell_type": "code",
   "execution_count": 2,
   "id": "bba42a65",
   "metadata": {
    "code_folding": [
     1,
     10,
     45,
     55,
     122
    ]
   },
   "outputs": [],
   "source": [
    "class Runner:\n",
    "    def __init__(self, cfg, model, criterion, optimizer, scheduler, device, logger):\n",
    "        self.cfg = cfg\n",
    "        self.model = model\n",
    "        self.criterion = criterion\n",
    "        self.optimizer = optimizer\n",
    "        self.scheduler = scheduler\n",
    "        self.device = device\n",
    "        self.logger = logger\n",
    "\n",
    "    def train(self, dataset_trn, dataset_val, loader_trn, loader_val):\n",
    "        print(f'training start at {datetime.datetime.now()}')\n",
    "\n",
    "        self.cfg.snapshot.output_dir = self.cfg.working_dir / 'weight'\n",
    "        snap = util.Snapshot(**self.cfg.snapshot)\n",
    "\n",
    "        for epoch in range(self.cfg.n_epochs):\n",
    "            start_time = time.time()\n",
    "\n",
    "            # train.\n",
    "            result_trn = self.run_nn('trn', dataset_trn, loader_trn)\n",
    "            \n",
    "            # valid.\n",
    "            with torch.no_grad():\n",
    "                result_val = self.run_nn('val', dataset_val, loader_val)\n",
    "            \n",
    "            # scheduler step.\n",
    "            if self.scheduler.__class__.__name__=='ReduceLROnPlateau':\n",
    "                self.scheduler.step(result_val[self.cfg.scheduler.monitor])\n",
    "            else:\n",
    "                self.scheduler.step()\n",
    "\n",
    "            wrap_time = time.time()-start_time\n",
    "\n",
    "            # logging.\n",
    "            logging_info = [epoch+1, wrap_time]\n",
    "            logging_info.extend(sum([[result_trn[i], result_val[i]] for i in self.cfg.logger.params.logging_info], []))\n",
    "            if self.logger:\n",
    "                self.logger.write_log(logging_info)\n",
    "\n",
    "            print(f\"{epoch+1}/{self.cfg.n_epochs}: trn_loss={result_trn['loss']:.4f}, val_loss={result_val['loss']:.4f}, val_metric={result_val['metric']:.4f}, time={wrap_time:.2f}sec\")\n",
    "\n",
    "            # snapshot.\n",
    "            snap.snapshot(result_val[self.cfg.snapshot.monitor], self.model, self.optimizer, epoch)\n",
    "\n",
    "    def test(self, dataset_test, loader_test):\n",
    "        print(f'test start at {datetime.datetime.now()}')\n",
    "        with torch.no_grad():\n",
    "            if self.cfg.with_soft_label:\n",
    "                result = self.run_nn_with_soft_label('test', dataset_test, loader_test)\n",
    "            else:\n",
    "                result = self.run_nn('test', dataset_test, loader_test)\n",
    "        print('done.')\n",
    "        return result\n",
    "\n",
    "    def run_nn(self, mode, dataset, loader):\n",
    "\n",
    "        losses = []\n",
    "        metrics = 0\n",
    "        \n",
    "        #sm = torch.nn.Sigmoid()\n",
    "\n",
    "        if self.cfg.use_amp:\n",
    "            scaler = GradScaler()\n",
    "\n",
    "        if mode=='trn':\n",
    "            self.model.train()\n",
    "            self.optimizer.zero_grad()\n",
    "        else:\n",
    "            self.model.eval()\n",
    "            val_metrics = np.zeros((len(dataset)))\n",
    "\n",
    "        for idx, batch in enumerate(tqdm(loader)):\n",
    "            img    = batch['image']\n",
    "            target = batch['target']\n",
    "\n",
    "            img   = img.to(self.device, dtype=torch.float)\n",
    "            label = target.to(self.device, dtype=torch.float)\n",
    "\n",
    "            # pred and calc losses.\n",
    "            if self.cfg.use_amp:\n",
    "                with autocast():\n",
    "                    pred = self.model(img)\n",
    "                    loss = self.criterion.calc_loss(pred, label)\n",
    "            else:\n",
    "                pred = self.model(img)\n",
    "                loss = self.criterion.calc_loss(pred, label)\n",
    "                \n",
    "            losses.append(loss.item())\n",
    "\n",
    "            if mode=='trn':\n",
    "                if self.cfg.use_amp:\n",
    "                    scaler.scale(loss).backward()\n",
    "                    scaler.step(self.optimizer)\n",
    "                    scaler.update()\n",
    "                else:\n",
    "                    loss.backward()\n",
    "                    self.optimizer.step()\n",
    "                self.optimizer.zero_grad()\n",
    "            else:\n",
    "                # make predictions.\n",
    "                val_metrics[idx * self.cfg.batch_size:(idx + 1) * self.cfg.batch_size] += self.criterion.calc_metrics(pred, label).detach().item()\n",
    "\n",
    "        if mode=='val':\n",
    "            # calc. metrics.\n",
    "            #val_pred = np.nan_to_num(val_pred)\n",
    "            #val_pred[val_pred ==-np.inf] = 0\n",
    "            #val_pred[val_pred == np.inf] = 0\n",
    "            #metrics = self.criterion.calc_metrics(val_pred, val_target)\n",
    "            \n",
    "            metrics = np.average(val_metrics)\n",
    "            #print(metric, val_metrics)\n",
    "        elif mode=='test':\n",
    "            return val_pred      \n",
    "\n",
    "        result = dict(\n",
    "            loss=np.sum(losses)/len(loader),\n",
    "            metric=metrics,\n",
    "        )\n",
    "\n",
    "        return result\n"
   ]
  },
  {
   "cell_type": "code",
   "execution_count": 3,
   "id": "9618adb1",
   "metadata": {
    "code_folding": []
   },
   "outputs": [],
   "source": [
    "class args:\n",
    "    config = '../config/000.py'\n",
    "    fold = 0\n",
    "    gpu = 0"
   ]
  },
  {
   "cell_type": "code",
   "execution_count": 4,
   "id": "5ac85e5d",
   "metadata": {
    "code_folding": []
   },
   "outputs": [
    {
     "name": "stdout",
     "output_type": "stream",
     "text": [
      "version: 000\n",
      "fold: 0\n"
     ]
    }
   ],
   "source": [
    "#args = util.get_args()\n",
    "cfg = Config.fromfile(args.config)\n",
    "cfg.fold = args.fold\n",
    "cfg.working_dir = cfg.output_dir / cfg.version / str(cfg.fold)\n",
    "print(f'version: {cfg.version}')\n",
    "print(f'fold: {cfg.fold}')\n",
    "\n",
    "# set logger.\n",
    "my_logger = None\n",
    "\n",
    "# set seed.\n",
    "util.seed_everything(cfg.seed)\n",
    "\n",
    "# get dataloader.\n",
    "dataset_test, loader_test = factory.get_dataset_loader(cfg.test, [0])"
   ]
  },
  {
   "cell_type": "code",
   "execution_count": 5,
   "id": "449fd40a",
   "metadata": {
    "scrolled": true
   },
   "outputs": [
    {
     "name": "stdout",
     "output_type": "stream",
     "text": [
      "model: CustomModel\n"
     ]
    },
    {
     "data": {
      "text/plain": [
       "<All keys matched successfully>"
      ]
     },
     "execution_count": 5,
     "metadata": {},
     "output_type": "execute_result"
    }
   ],
   "source": [
    "# get model.\n",
    "print(f'model: {cfg.model.name}')\n",
    "model = factory.get_model(cfg.model)\n",
    "device = factory.get_device(args.gpu)\n",
    "model.cuda()\n",
    "model.to(device)\n",
    "model.load_state_dict(torch.load(cfg.working_dir / 'weight' / cfg.test.weight_name))"
   ]
  },
  {
   "cell_type": "code",
   "execution_count": 6,
   "id": "d0981811",
   "metadata": {},
   "outputs": [
    {
     "name": "stdout",
     "output_type": "stream",
     "text": [
      "optimizer: AdamW\n",
      "loss: CustomLoss\n",
      "scheduler: CosineAnnealingLR\n"
     ]
    }
   ],
   "source": [
    "# get optimizer.\n",
    "print(f'optimizer: {cfg.optim.name}')\n",
    "plist = [{'params': model.parameters(), 'lr': cfg.optim.lr}]\n",
    "optimizer = factory.get_optimizer(cfg.optim)(plist)\n",
    "\n",
    "# get loss.\n",
    "print(f'loss: {cfg.loss.name}')\n",
    "loss = factory.get_loss(cfg.loss)\n",
    "\n",
    "# get scheduler.\n",
    "print(f'scheduler: {cfg.scheduler.name}')\n",
    "scheduler = factory.get_scheduler(cfg.scheduler, optimizer)"
   ]
  },
  {
   "cell_type": "code",
   "execution_count": 38,
   "id": "57af30be",
   "metadata": {},
   "outputs": [],
   "source": [
    "def post_process(pred):\n",
    "    threthold = 0.5\n",
    "    min_size = 350\n",
    "    mask = cv2.threshold(pred.permute(1,2,0).detach().cpu().numpy(), threthold, 1, cv2.THRESH_BINARY)[1]\n",
    "    \n",
    "    preds = []\n",
    "    for idx in range(9):\n",
    "        num_component, component = cv2.connectedComponents(mask[:,:,idx].astype(np.uint8))\n",
    "        predictions = np.zeros((544, 1024), np.float32)\n",
    "        num = 0\n",
    "        for c in range(1, num_component):\n",
    "            p = (component == c)\n",
    "            if p.sum() > min_size:\n",
    "                predictions[p] = 1\n",
    "                num += 1\n",
    "        preds.append(predictions)\n",
    "    return preds"
   ]
  },
  {
   "cell_type": "code",
   "execution_count": 57,
   "id": "06de158c",
   "metadata": {},
   "outputs": [
    {
     "name": "stderr",
     "output_type": "stream",
     "text": [
      "  0%|                                                    | 0/73 [00:00<?, ?it/s]\n"
     ]
    }
   ],
   "source": [
    "# inference\n",
    "model.eval()\n",
    "\n",
    "for idx, batch in enumerate(tqdm(loader_test)):\n",
    "    img    = batch['image']\n",
    "    target = batch['target']\n",
    "\n",
    "    img   = img.to(device, dtype=torch.float)\n",
    "    label = target.to(device, dtype=torch.float)\n",
    "    \n",
    "    preds = model(img)\n",
    "    mean_iou = loss.calc_loss(preds, label)\n",
    "    \n",
    "    for pred in preds:\n",
    "        pred = pred.sigmoid()\n",
    "        pred = np.stack(post_process(pred), axis=2)\n",
    "    break"
   ]
  },
  {
   "cell_type": "markdown",
   "id": "4d99a695",
   "metadata": {},
   "source": [
    "# post process effect"
   ]
  },
  {
   "cell_type": "code",
   "execution_count": 58,
   "id": "41487acb",
   "metadata": {},
   "outputs": [
    {
     "data": {
      "text/plain": [
       "tensor(0.8217)"
      ]
     },
     "execution_count": 58,
     "metadata": {},
     "output_type": "execute_result"
    }
   ],
   "source": [
    "loss.calc_metrics(\n",
    "    torch.unsqueeze(torch.tensor(pred).permute(2,0,1), dim=0),\n",
    "    label[1:,:,:,:].cpu()\n",
    ")"
   ]
  },
  {
   "cell_type": "code",
   "execution_count": 59,
   "id": "d9e3ee01",
   "metadata": {},
   "outputs": [
    {
     "data": {
      "text/plain": [
       "tensor(0.7323)"
      ]
     },
     "execution_count": 59,
     "metadata": {},
     "output_type": "execute_result"
    }
   ],
   "source": [
    "loss.calc_metrics(\n",
    "    preds[1:,:,:,:].cpu(),\n",
    "    label[1:,:,:,:].cpu()\n",
    ")"
   ]
  },
  {
   "cell_type": "code",
   "execution_count": 65,
   "id": "88e5d083",
   "metadata": {
    "scrolled": true
   },
   "outputs": [
    {
     "data": {
      "text/plain": [
       "<matplotlib.image.AxesImage at 0x7f9b3802bb50>"
      ]
     },
     "execution_count": 65,
     "metadata": {},
     "output_type": "execute_result"
    },
    {
     "data": {
      "image/png": "[encoded data removed]",
      "text/plain": [
       "<Figure size 720x360 with 2 Axes>"
      ]
     },
     "metadata": {
      "needs_background": "light"
     },
     "output_type": "display_data"
    }
   ],
   "source": [
    "plt.figure(figsize=(10,5))\n",
    "plt.subplot(1,2,1)\n",
    "plt.imshow(preds.argmax(1)[1].detach().cpu().numpy())\n",
    "#plt.imshow(pred.sigmoid().argmax(1)[1].detach().cpu().numpy())\n",
    "\n",
    "plt.subplot(1,2,2)\n",
    "plt.imshow(pred.argmax(2))"
   ]
  }
 ],
 "metadata": {
  "kernelspec": {
   "display_name": "Python 3 (ipykernel)",
   "language": "python",
   "name": "python3"
  },
  "language_info": {
   "codemirror_mode": {
    "name": "ipython",
    "version": 3
   },
   "file_extension": ".py",
   "mimetype": "text/x-python",
   "name": "python",
   "nbconvert_exporter": "python",
   "pygments_lexer": "ipython3",
   "version": "3.8.12"
  },
  "toc": {
   "base_numbering": 1,
   "nav_menu": {},
   "number_sections": true,
   "sideBar": true,
   "skip_h1_title": false,
   "title_cell": "Table of Contents",
   "title_sidebar": "Contents",
   "toc_cell": false,
   "toc_position": {},
   "toc_section_display": true,
   "toc_window_display": false
  }
 },
 "nbformat": 4,
 "nbformat_minor": 5
}

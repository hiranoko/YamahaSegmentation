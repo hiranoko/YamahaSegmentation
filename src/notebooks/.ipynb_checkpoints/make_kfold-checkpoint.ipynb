{
 "cells": [
  {
   "cell_type": "markdown",
   "id": "8fb40e73",
   "metadata": {},
   "source": [
    "\"\"\"Desctiption\n",
    "\n",
    "Make kfold \n",
    "\n",
    "\"\"\""
   ]
  },
  {
   "cell_type": "code",
   "execution_count": 6,
   "id": "581b31be",
   "metadata": {},
   "outputs": [],
   "source": [
    "import glob\n",
    "import cv2\n",
    "import numpy as np\n",
    "import matplotlib.pyplot as plt\n",
    "from tqdm import tqdm\n",
    "import pandas as pd\n",
    "from sklearn.model_selection import KFold\n",
    "\n",
    "%matplotlib inline"
   ]
  },
  {
   "cell_type": "code",
   "execution_count": 2,
   "id": "25399468",
   "metadata": {},
   "outputs": [
    {
     "name": "stdout",
     "output_type": "stream",
     "text": [
      "931 931\n"
     ]
    }
   ],
   "source": [
    "img_names = sorted(glob.glob('../../yamaha_v0/train/**/rgb.jpg'))\n",
    "ann_names = sorted(glob.glob('../../yamaha_v0/train/**/labels.png'))\n",
    "\n",
    "print(len(img_names), len(ann_names))"
   ]
  },
  {
   "cell_type": "code",
   "execution_count": 3,
   "id": "a9801f97",
   "metadata": {},
   "outputs": [],
   "source": [
    "pallet = {\n",
    "    \"non-traversable low vegetation\" : [0, 160, 0],\n",
    "    \"sky\" : [1, 88, 255],\n",
    "    \"high vegetation\" : [40, 80, 0],\n",
    "    \"traversable grass\" : [128, 255, 0],\n",
    "    \"rough trail\" : [156, 76, 30],\n",
    "    \"smooth trail\" : [178, 176, 153],\n",
    "    \"obstacle\" : [255, 0, 0],\n",
    "    \"truck\" : [255, 255, 255],\n",
    "    \"puddle\" : [255, 0, 128]\n",
    "}"
   ]
  },
  {
   "cell_type": "code",
   "execution_count": 4,
   "id": "512a4e3f",
   "metadata": {},
   "outputs": [],
   "source": [
    "df = pd.DataFrame(data=img_names, columns=['file_name'])"
   ]
  },
  {
   "cell_type": "code",
   "execution_count": 5,
   "id": "b7bfcb34",
   "metadata": {},
   "outputs": [
    {
     "data": {
      "text/html": [
       "<div>\n",
       "<style scoped>\n",
       "    .dataframe tbody tr th:only-of-type {\n",
       "        vertical-align: middle;\n",
       "    }\n",
       "\n",
       "    .dataframe tbody tr th {\n",
       "        vertical-align: top;\n",
       "    }\n",
       "\n",
       "    .dataframe thead th {\n",
       "        text-align: right;\n",
       "    }\n",
       "</style>\n",
       "<table border=\"1\" class=\"dataframe\">\n",
       "  <thead>\n",
       "    <tr style=\"text-align: right;\">\n",
       "      <th></th>\n",
       "      <th>file_name</th>\n",
       "    </tr>\n",
       "  </thead>\n",
       "  <tbody>\n",
       "    <tr>\n",
       "      <th>0</th>\n",
       "      <td>../../yamaha_v0/train/iid000000/rgb.jpg</td>\n",
       "    </tr>\n",
       "    <tr>\n",
       "      <th>1</th>\n",
       "      <td>../../yamaha_v0/train/iid000001/rgb.jpg</td>\n",
       "    </tr>\n",
       "    <tr>\n",
       "      <th>2</th>\n",
       "      <td>../../yamaha_v0/train/iid000002/rgb.jpg</td>\n",
       "    </tr>\n",
       "    <tr>\n",
       "      <th>3</th>\n",
       "      <td>../../yamaha_v0/train/iid000003/rgb.jpg</td>\n",
       "    </tr>\n",
       "    <tr>\n",
       "      <th>4</th>\n",
       "      <td>../../yamaha_v0/train/iid000004/rgb.jpg</td>\n",
       "    </tr>\n",
       "  </tbody>\n",
       "</table>\n",
       "</div>"
      ],
      "text/plain": [
       "                                 file_name\n",
       "0  ../../yamaha_v0/train/iid000000/rgb.jpg\n",
       "1  ../../yamaha_v0/train/iid000001/rgb.jpg\n",
       "2  ../../yamaha_v0/train/iid000002/rgb.jpg\n",
       "3  ../../yamaha_v0/train/iid000003/rgb.jpg\n",
       "4  ../../yamaha_v0/train/iid000004/rgb.jpg"
      ]
     },
     "execution_count": 5,
     "metadata": {},
     "output_type": "execute_result"
    }
   ],
   "source": [
    "df.head()"
   ]
  },
  {
   "cell_type": "code",
   "execution_count": 7,
   "id": "d00f6f2a",
   "metadata": {},
   "outputs": [],
   "source": [
    "kf = KFold(n_splits=5)"
   ]
  },
  {
   "cell_type": "code",
   "execution_count": 8,
   "id": "170402f0",
   "metadata": {},
   "outputs": [
    {
     "data": {
      "text/plain": [
       "5"
      ]
     },
     "execution_count": 8,
     "metadata": {},
     "output_type": "execute_result"
    }
   ],
   "source": [
    "kf.get_n_splits(img_names)"
   ]
  },
  {
   "cell_type": "code",
   "execution_count": 13,
   "id": "be6d4651",
   "metadata": {},
   "outputs": [],
   "source": [
    "for n, (train_idx, test_idx) in enumerate(kf.split(img_names)):\n",
    "    #print(f\"{n}, Train: {train_idx}, Test: {test_idx}\")\n",
    "    df.loc[test_idx, 'fold'] = int(n)\n",
    "df['fold'] = df['fold'].astype(int)"
   ]
  },
  {
   "cell_type": "code",
   "execution_count": 15,
   "id": "44deffef",
   "metadata": {},
   "outputs": [],
   "source": [
    "df.to_csv('../../yamaha_v0/train.csv', index=False)"
   ]
  },
  {
   "cell_type": "code",
   "execution_count": 16,
   "id": "f2b484be",
   "metadata": {},
   "outputs": [
    {
     "data": {
      "text/html": [
       "<div>\n",
       "<style scoped>\n",
       "    .dataframe tbody tr th:only-of-type {\n",
       "        vertical-align: middle;\n",
       "    }\n",
       "\n",
       "    .dataframe tbody tr th {\n",
       "        vertical-align: top;\n",
       "    }\n",
       "\n",
       "    .dataframe thead th {\n",
       "        text-align: right;\n",
       "    }\n",
       "</style>\n",
       "<table border=\"1\" class=\"dataframe\">\n",
       "  <thead>\n",
       "    <tr style=\"text-align: right;\">\n",
       "      <th></th>\n",
       "      <th>file_name</th>\n",
       "      <th>fold</th>\n",
       "    </tr>\n",
       "  </thead>\n",
       "  <tbody>\n",
       "    <tr>\n",
       "      <th>828</th>\n",
       "      <td>../../yamaha_v0/train/iid001245/rgb.jpg</td>\n",
       "      <td>4</td>\n",
       "    </tr>\n",
       "    <tr>\n",
       "      <th>485</th>\n",
       "      <td>../../yamaha_v0/train/iid000629/rgb.jpg</td>\n",
       "      <td>2</td>\n",
       "    </tr>\n",
       "    <tr>\n",
       "      <th>729</th>\n",
       "      <td>../../yamaha_v0/train/iid001146/rgb.jpg</td>\n",
       "      <td>3</td>\n",
       "    </tr>\n",
       "    <tr>\n",
       "      <th>903</th>\n",
       "      <td>../../yamaha_v0/train/iid001320/rgb.jpg</td>\n",
       "      <td>4</td>\n",
       "    </tr>\n",
       "    <tr>\n",
       "      <th>611</th>\n",
       "      <td>../../yamaha_v0/train/iid000773/rgb.jpg</td>\n",
       "      <td>3</td>\n",
       "    </tr>\n",
       "  </tbody>\n",
       "</table>\n",
       "</div>"
      ],
      "text/plain": [
       "                                   file_name  fold\n",
       "828  ../../yamaha_v0/train/iid001245/rgb.jpg     4\n",
       "485  ../../yamaha_v0/train/iid000629/rgb.jpg     2\n",
       "729  ../../yamaha_v0/train/iid001146/rgb.jpg     3\n",
       "903  ../../yamaha_v0/train/iid001320/rgb.jpg     4\n",
       "611  ../../yamaha_v0/train/iid000773/rgb.jpg     3"
      ]
     },
     "execution_count": 16,
     "metadata": {},
     "output_type": "execute_result"
    }
   ],
   "source": [
    "df.sample(5)"
   ]
  },
  {
   "cell_type": "code",
   "execution_count": null,
   "id": "a5c4586a",
   "metadata": {},
   "outputs": [],
   "source": []
  }
 ],
 "metadata": {
  "kernelspec": {
   "display_name": "Python 3 (ipykernel)",
   "language": "python",
   "name": "python3"
  },
  "language_info": {
   "codemirror_mode": {
    "name": "ipython",
    "version": 3
   },
   "file_extension": ".py",
   "mimetype": "text/x-python",
   "name": "python",
   "nbconvert_exporter": "python",
   "pygments_lexer": "ipython3",
   "version": "3.8.12"
  },
  "toc": {
   "base_numbering": 1,
   "nav_menu": {},
   "number_sections": true,
   "sideBar": true,
   "skip_h1_title": false,
   "title_cell": "Table of Contents",
   "title_sidebar": "Contents",
   "toc_cell": false,
   "toc_position": {},
   "toc_section_display": true,
   "toc_window_display": false
  }
 },
 "nbformat": 4,
 "nbformat_minor": 5
}
